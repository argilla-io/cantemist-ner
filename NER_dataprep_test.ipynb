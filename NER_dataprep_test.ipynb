{
 "cells": [
  {
   "cell_type": "markdown",
   "metadata": {},
   "source": [
    "# Preparing the test set with gold annotations\n",
    "\n",
    "This test dataset was released after the competition was over."
   ]
  },
  {
   "cell_type": "code",
   "execution_count": 1,
   "metadata": {},
   "outputs": [],
   "source": [
    "import helper\n",
    "import spacy\n",
    "import glob\n",
    "from typing import Tuple, List\n",
    "from pathlib import Path\n",
    "from tqdm import tqdm\n",
    "import pandas as pd\n",
    "\n",
    "from allennlp.data.token_indexers import PretrainedTransformerIndexer, PretrainedTransformerMismatchedIndexer\n",
    "from allennlp.data import Token, Vocabulary"
   ]
  },
  {
   "cell_type": "code",
   "execution_count": 2,
   "metadata": {},
   "outputs": [],
   "source": [
    "nlp = spacy.load('es_core_news_sm')"
   ]
  },
  {
   "cell_type": "code",
   "execution_count": 3,
   "metadata": {},
   "outputs": [],
   "source": [
    "nlp.tokenizer = helper.custom_tokenizer(nlp)"
   ]
  },
  {
   "cell_type": "code",
   "execution_count": 13,
   "metadata": {},
   "outputs": [],
   "source": [
    "def create_df(txt_files, ann_files, nlp, align_offsets = True):\n",
    "    dfs = []\n",
    "    for txt, ann in tqdm(zip(txt_files, ann_files), total=len(txt_files)):\n",
    "\n",
    "        doc = helper.brat2doc(\n",
    "            Path(txt), \n",
    "            Path(ann), \n",
    "            nlp, \n",
    "            align_offsets=align_offsets, \n",
    "            remove_parents=True, \n",
    "            remove_siblings=True\n",
    "        )\n",
    "        dfs.append(helper.doc2df(doc, Path(txt).name))\n",
    "        \n",
    "    return dfs\n",
    "\n",
    "def find_misaligned_annotations(df, verbose=True):\n",
    "    # find misaligned annotations?\n",
    "    idx = []\n",
    "    for row in df.itertuples():\n",
    "        if '-' in row.labels:\n",
    "            idx.append(row.Index)\n",
    "    return idx"
   ]
  },
  {
   "cell_type": "code",
   "execution_count": 14,
   "metadata": {},
   "outputs": [],
   "source": [
    "ann_files_train = sorted(glob.glob(\"data/NER/cantemist-ner-gold/*.ann\"))\n",
    "txt_files_train = sorted(glob.glob(\"data/NER/cantemist-ner-gold/*.txt\"))"
   ]
  },
  {
   "cell_type": "code",
   "execution_count": 15,
   "metadata": {},
   "outputs": [
    {
     "name": "stderr",
     "output_type": "stream",
     "text": [
      "100%|██████████| 300/300 [00:19<00:00, 15.21it/s]\n"
     ]
    }
   ],
   "source": [
    "df_test = pd.concat(create_df(txt_files_train, ann_files_train, nlp, align_offsets=False), ignore_index=True)"
   ]
  },
  {
   "cell_type": "code",
   "execution_count": 19,
   "metadata": {},
   "outputs": [
    {
     "name": "stdout",
     "output_type": "stream",
     "text": [
      "8 [360, 2470, 2727, 3513, 4450, 5133, 6175, 8298]\n"
     ]
    }
   ],
   "source": [
    "idx = find_misaligned_annotations(df_test)\n",
    "print(len(idx), idx)\n",
    "df_test.loc[idx, :]\n",
    "df_test.drop(idx, inplace=True)"
   ]
  },
  {
   "cell_type": "code",
   "execution_count": 20,
   "metadata": {},
   "outputs": [],
   "source": [
    "# fix invalid tag sequences caused by our sentence splitting, that is annotations that contain a '.'\n",
    "for row in df_test.itertuples():\n",
    "    if row.labels[-1].startswith(\"B-\"):\n",
    "        row.labels[-1] = \"U-MORFOLOGIA_NEOPLASIA\"\n",
    "        print(row)\n",
    "    if row.labels[-1].startswith(\"I-\"):\n",
    "        row.labels[-1] = \"L-MORFOLOGIA_NEOPLASIA\"\n",
    "        print(row)\n",
    "    if row.labels[0].startswith(\"L-\"):\n",
    "        row.labels[0] = \"U-MORFOLOGIA_NEOPLASIA\"\n",
    "        print(row)\n",
    "    if row.labels[0].startswith(\"I-\"):\n",
    "        row.labels[0] = \"B-MORFOLOGIA_NEOPLASIA\"\n",
    "        print(row)"
   ]
  },
  {
   "cell_type": "code",
   "execution_count": 22,
   "metadata": {},
   "outputs": [
    {
     "data": {
      "text/html": [
       "<div>\n",
       "<style scoped>\n",
       "    .dataframe tbody tr th:only-of-type {\n",
       "        vertical-align: middle;\n",
       "    }\n",
       "\n",
       "    .dataframe tbody tr th {\n",
       "        vertical-align: top;\n",
       "    }\n",
       "\n",
       "    .dataframe thead th {\n",
       "        text-align: right;\n",
       "    }\n",
       "</style>\n",
       "<table border=\"1\" class=\"dataframe\">\n",
       "  <thead>\n",
       "    <tr style=\"text-align: right;\">\n",
       "      <th></th>\n",
       "      <th>text_org</th>\n",
       "      <th>text</th>\n",
       "      <th>labels</th>\n",
       "      <th>file</th>\n",
       "      <th>sentence_offset</th>\n",
       "      <th>entity_text</th>\n",
       "    </tr>\n",
       "  </thead>\n",
       "  <tbody>\n",
       "    <tr>\n",
       "      <th>0</th>\n",
       "      <td>Anamnesis\\nSe trata de un paciente de 67 años ...</td>\n",
       "      <td>[Anamnesis, \\n, Se, trata, de, un, paciente, d...</td>\n",
       "      <td>[O, O, O, O, O, O, O, O, O, O, O, O, O, O, O, ...</td>\n",
       "      <td>cc_onco1006.txt</td>\n",
       "      <td>0</td>\n",
       "      <td>[]</td>\n",
       "    </tr>\n",
       "    <tr>\n",
       "      <th>1</th>\n",
       "      <td>No ha sido intervenido quirúrgicamente y no ti...</td>\n",
       "      <td>[No, ha, sido, intervenido, quirúrgicamente, y...</td>\n",
       "      <td>[O, O, O, O, O, O, O, O, O, O, O, O, O, O]</td>\n",
       "      <td>cc_onco1006.txt</td>\n",
       "      <td>260</td>\n",
       "      <td>[]</td>\n",
       "    </tr>\n",
       "    <tr>\n",
       "      <th>2</th>\n",
       "      <td>Valorado en Consulta de Digestivo en julio de ...</td>\n",
       "      <td>[Valorado, en, Consulta, de, Digestivo, en, ju...</td>\n",
       "      <td>[O, O, O, O, O, O, O, O, O, O, O, O, O, O, O, ...</td>\n",
       "      <td>cc_onco1006.txt</td>\n",
       "      <td>346</td>\n",
       "      <td>[]</td>\n",
       "    </tr>\n",
       "    <tr>\n",
       "      <th>3</th>\n",
       "      <td>En analítica sanguínea, no se evidencian parám...</td>\n",
       "      <td>[En, analítica, sanguínea, ,, no, se, evidenci...</td>\n",
       "      <td>[O, O, O, O, O, O, O, O, O, O, O, O, O, O, O, ...</td>\n",
       "      <td>cc_onco1006.txt</td>\n",
       "      <td>563</td>\n",
       "      <td>[tumor, tumor]</td>\n",
       "    </tr>\n",
       "    <tr>\n",
       "      <th>4</th>\n",
       "      <td>/ml (0-37 U/ml).</td>\n",
       "      <td>[/, ml, (, 0-37, U, /, ml, ), .]</td>\n",
       "      <td>[O, O, O, O, O, O, O, O, O]</td>\n",
       "      <td>cc_onco1006.txt</td>\n",
       "      <td>715</td>\n",
       "      <td>[]</td>\n",
       "    </tr>\n",
       "    <tr>\n",
       "      <th>...</th>\n",
       "      <td>...</td>\n",
       "      <td>...</td>\n",
       "      <td>...</td>\n",
       "      <td>...</td>\n",
       "      <td>...</td>\n",
       "      <td>...</td>\n",
       "    </tr>\n",
       "    <tr>\n",
       "      <th>10777</th>\n",
       "      <td>15.3 300 U/ml (valores normales menores que 31...</td>\n",
       "      <td>[15.3, 300, U, /, ml, (, valores, normales, me...</td>\n",
       "      <td>[O, O, O, O, O, O, O, O, O, O, O, O, O, O, O, ...</td>\n",
       "      <td>cc_onco978.txt</td>\n",
       "      <td>5306</td>\n",
       "      <td>[]</td>\n",
       "    </tr>\n",
       "    <tr>\n",
       "      <th>10778</th>\n",
       "      <td>Ante la progresión clínica y analítica, se sus...</td>\n",
       "      <td>[Ante, la, progresión, clínica, y, analítica, ...</td>\n",
       "      <td>[O, O, O, O, O, O, O, O, O, O, O, O, O, O, O, ...</td>\n",
       "      <td>cc_onco978.txt</td>\n",
       "      <td>5527</td>\n",
       "      <td>[]</td>\n",
       "    </tr>\n",
       "    <tr>\n",
       "      <th>10779</th>\n",
       "      <td>Ante dicha sintomatología, se realiza ecografí...</td>\n",
       "      <td>[Ante, dicha, sintomatología, ,, se, realiza, ...</td>\n",
       "      <td>[O, O, O, O, O, O, O, O, O, O, O, O, O, O, O, ...</td>\n",
       "      <td>cc_onco978.txt</td>\n",
       "      <td>5672</td>\n",
       "      <td>[]</td>\n",
       "    </tr>\n",
       "    <tr>\n",
       "      <th>10780</th>\n",
       "      <td>Actualmente, a fecha de junio de 2017 y tras 3...</td>\n",
       "      <td>[Actualmente, ,, a, fecha, de, junio, de, 2017...</td>\n",
       "      <td>[O, O, O, O, O, O, O, O, O, O, O, O, O, O, O, ...</td>\n",
       "      <td>cc_onco978.txt</td>\n",
       "      <td>5899</td>\n",
       "      <td>[]</td>\n",
       "    </tr>\n",
       "    <tr>\n",
       "      <th>10781</th>\n",
       "      <td>En última TC abdominal, estabilización de enfe...</td>\n",
       "      <td>[En, última, TC, abdominal, ,, estabilización,...</td>\n",
       "      <td>[O, O, O, O, O, O, O, O, U-MORFOLOGIA_NEOPLASI...</td>\n",
       "      <td>cc_onco978.txt</td>\n",
       "      <td>6145</td>\n",
       "      <td>[metastásica]</td>\n",
       "    </tr>\n",
       "  </tbody>\n",
       "</table>\n",
       "<p>10774 rows × 6 columns</p>\n",
       "</div>"
      ],
      "text/plain": [
       "                                                text_org  \\\n",
       "0      Anamnesis\\nSe trata de un paciente de 67 años ...   \n",
       "1      No ha sido intervenido quirúrgicamente y no ti...   \n",
       "2      Valorado en Consulta de Digestivo en julio de ...   \n",
       "3      En analítica sanguínea, no se evidencian parám...   \n",
       "4                                       /ml (0-37 U/ml).   \n",
       "...                                                  ...   \n",
       "10777  15.3 300 U/ml (valores normales menores que 31...   \n",
       "10778  Ante la progresión clínica y analítica, se sus...   \n",
       "10779  Ante dicha sintomatología, se realiza ecografí...   \n",
       "10780  Actualmente, a fecha de junio de 2017 y tras 3...   \n",
       "10781  En última TC abdominal, estabilización de enfe...   \n",
       "\n",
       "                                                    text  \\\n",
       "0      [Anamnesis, \\n, Se, trata, de, un, paciente, d...   \n",
       "1      [No, ha, sido, intervenido, quirúrgicamente, y...   \n",
       "2      [Valorado, en, Consulta, de, Digestivo, en, ju...   \n",
       "3      [En, analítica, sanguínea, ,, no, se, evidenci...   \n",
       "4                       [/, ml, (, 0-37, U, /, ml, ), .]   \n",
       "...                                                  ...   \n",
       "10777  [15.3, 300, U, /, ml, (, valores, normales, me...   \n",
       "10778  [Ante, la, progresión, clínica, y, analítica, ...   \n",
       "10779  [Ante, dicha, sintomatología, ,, se, realiza, ...   \n",
       "10780  [Actualmente, ,, a, fecha, de, junio, de, 2017...   \n",
       "10781  [En, última, TC, abdominal, ,, estabilización,...   \n",
       "\n",
       "                                                  labels             file  \\\n",
       "0      [O, O, O, O, O, O, O, O, O, O, O, O, O, O, O, ...  cc_onco1006.txt   \n",
       "1             [O, O, O, O, O, O, O, O, O, O, O, O, O, O]  cc_onco1006.txt   \n",
       "2      [O, O, O, O, O, O, O, O, O, O, O, O, O, O, O, ...  cc_onco1006.txt   \n",
       "3      [O, O, O, O, O, O, O, O, O, O, O, O, O, O, O, ...  cc_onco1006.txt   \n",
       "4                            [O, O, O, O, O, O, O, O, O]  cc_onco1006.txt   \n",
       "...                                                  ...              ...   \n",
       "10777  [O, O, O, O, O, O, O, O, O, O, O, O, O, O, O, ...   cc_onco978.txt   \n",
       "10778  [O, O, O, O, O, O, O, O, O, O, O, O, O, O, O, ...   cc_onco978.txt   \n",
       "10779  [O, O, O, O, O, O, O, O, O, O, O, O, O, O, O, ...   cc_onco978.txt   \n",
       "10780  [O, O, O, O, O, O, O, O, O, O, O, O, O, O, O, ...   cc_onco978.txt   \n",
       "10781  [O, O, O, O, O, O, O, O, U-MORFOLOGIA_NEOPLASI...   cc_onco978.txt   \n",
       "\n",
       "       sentence_offset     entity_text  \n",
       "0                    0              []  \n",
       "1                  260              []  \n",
       "2                  346              []  \n",
       "3                  563  [tumor, tumor]  \n",
       "4                  715              []  \n",
       "...                ...             ...  \n",
       "10777             5306              []  \n",
       "10778             5527              []  \n",
       "10779             5672              []  \n",
       "10780             5899              []  \n",
       "10781             6145   [metastásica]  \n",
       "\n",
       "[10774 rows x 6 columns]"
      ]
     },
     "execution_count": 22,
     "metadata": {},
     "output_type": "execute_result"
    }
   ],
   "source": [
    "df_test"
   ]
  },
  {
   "cell_type": "code",
   "execution_count": 21,
   "metadata": {},
   "outputs": [],
   "source": [
    "df_test.to_json(\"data/NER/gold_test.json\", lines=True, orient=\"records\")"
   ]
  }
 ],
 "metadata": {
  "kernelspec": {
   "display_name": "Python 3",
   "language": "python",
   "name": "python3"
  },
  "language_info": {
   "codemirror_mode": {
    "name": "ipython",
    "version": 3
   },
   "file_extension": ".py",
   "mimetype": "text/x-python",
   "name": "python",
   "nbconvert_exporter": "python",
   "pygments_lexer": "ipython3",
   "version": "3.7.9"
  }
 },
 "nbformat": 4,
 "nbformat_minor": 4
}
